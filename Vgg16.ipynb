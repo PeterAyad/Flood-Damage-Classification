{
  "nbformat": 4,
  "nbformat_minor": 0,
  "metadata": {
    "colab": {
      "provenance": [],
      "gpuType": "T4"
    },
    "kernelspec": {
      "name": "python3",
      "display_name": "Python 3"
    },
    "language_info": {
      "name": "python"
    },
    "accelerator": "GPU",
    "gpuClass": "standard"
  },
  "cells": [
    {
      "cell_type": "code",
      "source": [
        "from google.colab import drive\n",
        "drive.mount('/content/drive')"
      ],
      "metadata": {
        "colab": {
          "base_uri": "https://localhost:8080/"
        },
        "id": "C6pNUwFSozD7",
        "outputId": "7cc78983-31ee-401a-943c-a424bdd08276"
      },
      "execution_count": null,
      "outputs": [
        {
          "output_type": "stream",
          "name": "stdout",
          "text": [
            "Drive already mounted at /content/drive; to attempt to forcibly remount, call drive.mount(\"/content/drive\", force_remount=True).\n"
          ]
        }
      ]
    },
    {
      "cell_type": "code",
      "source": [
        "!unzip drive/MyDrive/Project/dataset.zip"
      ],
      "metadata": {
        "colab": {
          "base_uri": "https://localhost:8080/"
        },
        "id": "Z7Cde_OerauO",
        "outputId": "a46aced8-d3cd-47d4-a626-34b96d59569f"
      },
      "execution_count": null,
      "outputs": [
        {
          "output_type": "stream",
          "name": "stdout",
          "text": [
            "Archive:  drive/MyDrive/Project/dataset.zip\n",
            "replace dataset/flooded/0.jpg? [y]es, [n]o, [A]ll, [N]one, [r]ename: "
          ]
        }
      ]
    },
    {
      "cell_type": "code",
      "source": [
        "flooded_path = \"dataset/flooded\"\n",
        "non_flooded_path = \"dataset/non-flooded\"\n",
        "\n",
        "import os\n",
        "\n",
        "def count_files(path):\n",
        "  return len([f for f in os.listdir(path) if os.path.isfile(os.path.join(path, f))])\n",
        "\n",
        "print(f\"Flooded Images Count: {count_files(flooded_path)}\")\n",
        "print(f\"Non Flooded Images Count: {count_files(non_flooded_path)}\")\n",
        "\n",
        "# Balanced"
      ],
      "metadata": {
        "colab": {
          "base_uri": "https://localhost:8080/"
        },
        "id": "0aVESycosdhP",
        "outputId": "c7be6ab0-bfee-43e5-ee52-4ad7a3f71dbc"
      },
      "execution_count": null,
      "outputs": [
        {
          "output_type": "stream",
          "name": "stdout",
          "text": [
            "Flooded Images Count: 461\n",
            "Non Flooded Images Count: 461\n"
          ]
        }
      ]
    },
    {
      "cell_type": "code",
      "source": [
        "import os\n",
        "import numpy as np\n",
        "from PIL import Image\n",
        "import matplotlib.pyplot as plt\n",
        "\n",
        "# Define the path to the image folder\n",
        "image_folder = flooded_path\n",
        "\n",
        "# Initialize an empty list to store the image sizes\n",
        "image_sizes = []\n",
        "\n",
        "# Loop through all the images in the folder and store their sizes\n",
        "for filename in os.listdir(image_folder):\n",
        "    img = Image.open(os.path.join(image_folder, filename))\n",
        "    width, height = img.size\n",
        "    image_sizes.append((width, height))\n",
        "\n",
        "# Convert the image sizes list to a numpy array\n",
        "image_sizes = np.array(image_sizes)\n",
        "\n",
        "# Plot a histogram of the image sizes\n",
        "plt.hist2d(image_sizes[:, 0], image_sizes[:, 1], bins=50, cmap=plt.cm.jet)\n",
        "plt.xlabel(\"Image Width\")\n",
        "plt.ylabel(\"Image Height\")\n",
        "plt.title(\"Histogram of Image Sizes\")\n",
        "plt.colorbar()\n",
        "plt.show()"
      ],
      "metadata": {
        "colab": {
          "base_uri": "https://localhost:8080/",
          "height": 472
        },
        "id": "FmUuyKv0vdRX",
        "outputId": "a457a8dc-6574-44b3-c686-70d90805cddb"
      },
      "execution_count": null,
      "outputs": [
        {
          "output_type": "display_data",
          "data": {
            "text/plain": [
              "<Figure size 640x480 with 2 Axes>"
            ],
            "image/png": "[encoded data removed]"
          },
          "metadata": {}
        }
      ]
    },
    {
      "cell_type": "code",
      "source": [
        "from PIL import Image\n",
        "import os\n",
        "import numpy as np\n",
        "from sklearn.model_selection import train_test_split\n",
        "\n",
        "\n",
        "\n",
        "# Define the image size and number of classes\n",
        "img_size = (256, 256)\n",
        "num_classes = 2\n",
        "\n",
        "# Load the images and create the labels\n",
        "flooded_images = []\n",
        "non_flooded_images = []\n",
        "\n",
        "for img_path in os.listdir(flooded_path):\n",
        "    img = Image.open(os.path.join(flooded_path, img_path)).resize(img_size)\n",
        "    flooded_images.append(np.array(img))\n",
        "    \n",
        "for img_path in os.listdir(non_flooded_path):\n",
        "    img = Image.open(os.path.join(non_flooded_path, img_path)).resize(img_size)\n",
        "    non_flooded_images.append(np.array(img))\n",
        "\n",
        "# Convert the images to numpy arrays and normalize the pixel values\n",
        "flooded_images = np.array(flooded_images) / 255.\n",
        "non_flooded_images = np.array(non_flooded_images) / 255.\n",
        "\n",
        "# Create the labels\n",
        "flooded_labels = np.ones(len(flooded_images))\n",
        "non_flooded_labels = np.zeros(len(non_flooded_images))\n",
        "\n",
        "# Merge the data and labelsand split into training, validation, and testing sets using the `train_test_split` function from scikit-learn library:\n",
        "\n",
        "X = np.concatenate([flooded_images, non_flooded_images])\n",
        "y = np.concatenate([flooded_labels, non_flooded_labels])\n",
        "\n",
        "X_train, X_test, y_train, y_test = train_test_split(X, y, test_size=0.3, random_state=42)\n",
        "X_val, X_test, y_val, y_test = train_test_split(X_test, y_test, test_size=0.5, random_state=42)\n",
        "\n",
        "# Print the shape of the data and labels\n",
        "print(\"Training data shape:\", X_train.shape)\n",
        "print(\"Validation data shape:\", X_val.shape)\n",
        "print(\"Testing data shape:\", X_test.shape)\n",
        "print(\"Training labels shape:\", y_train.shape)\n",
        "print(\"Validation labels shape:\", y_val.shape)\n",
        "print(\"Testing labels shape:\", y_test.shape)"
      ],
      "metadata": {
        "id": "AhuanvLatTr3"
      },
      "execution_count": null,
      "outputs": []
    },
    {
      "cell_type": "code",
      "source": [
        "from keras.preprocessing.image import ImageDataGenerator\n",
        "\n",
        "# Create data generators for training, validation, and testing\n",
        "train_datagen = ImageDataGenerator()\n",
        "val_datagen = ImageDataGenerator()\n",
        "test_datagen = ImageDataGenerator()\n",
        "\n",
        "train_generator = train_datagen.flow(X_train, y_train, batch_size=32)\n",
        "val_generator = val_datagen.flow(X_val, y_val, batch_size=32)\n",
        "test_generator = test_datagen.flow(X_test, y_test, batch_size=32)\n"
      ],
      "metadata": {
        "id": "uVxjXy4caRDc"
      },
      "execution_count": null,
      "outputs": []
    },
    {
      "cell_type": "code",
      "source": [
        "from keras.applications import VGG16, ResNet50\n",
        "from keras.models import Sequential\n",
        "from keras.layers import Dense, Flatten\n",
        "from sklearn.metrics import accuracy_score\n",
        "\n",
        "# Load the pre-trained VGG16 model\n",
        "vgg16 = VGG16(weights='imagenet', include_top=False, input_shape=(256, 256, 3))\n",
        "\n",
        "# Freeze the pre-trained layers\n",
        "for layer in vgg16.layers:\n",
        "    layer.trainable = False\n",
        "\n",
        "# Create a new model and add the pre-trained VGG16 model as a feature extractor\n",
        "model = Sequential()\n",
        "model.add(vgg16)\n",
        "model.add(Flatten())\n",
        "# model.add(Dense(256, activation='relu'))\n",
        "model.add(Dense(1, activation='sigmoid'))\n",
        "\n",
        "# Compile the model\n",
        "model.compile(optimizer='adam', loss='binary_crossentropy', metrics=['accuracy'])\n",
        "\n",
        "# Train the model\n",
        "history = model.fit(train_generator, validation_data=val_generator, epochs=10, batch_size=32)"
      ],
      "metadata": {
        "colab": {
          "base_uri": "https://localhost:8080/"
        },
        "id": "6OMHljj5yymL",
        "outputId": "e00b7ce8-5494-4372-dd92-18eb7a41fdbb"
      },
      "execution_count": null,
      "outputs": [
        {
          "output_type": "stream",
          "name": "stdout",
          "text": [
            "Downloading data from https://storage.googleapis.com/tensorflow/keras-applications/vgg16/vgg16_weights_tf_dim_ordering_tf_kernels_notop.h5\n",
            "58889256/58889256 [==============================] - 3s 0us/step\n",
            "Epoch 1/10\n",
            "21/21 [==============================] - 21s 333ms/step - loss: 0.4595 - accuracy: 0.7364 - val_loss: 0.3474 - val_accuracy: 0.8551\n",
            "Epoch 2/10\n",
            "21/21 [==============================] - 4s 178ms/step - loss: 0.1934 - accuracy: 0.9380 - val_loss: 0.3390 - val_accuracy: 0.8551\n",
            "Epoch 3/10\n",
            "21/21 [==============================] - 4s 175ms/step - loss: 0.1131 - accuracy: 0.9767 - val_loss: 0.2798 - val_accuracy: 0.8768\n",
            "Epoch 4/10\n",
            "21/21 [==============================] - 4s 206ms/step - loss: 0.0861 - accuracy: 0.9860 - val_loss: 0.2714 - val_accuracy: 0.8768\n",
            "Epoch 5/10\n",
            "21/21 [==============================] - 4s 178ms/step - loss: 0.0645 - accuracy: 0.9922 - val_loss: 0.2751 - val_accuracy: 0.8841\n",
            "Epoch 6/10\n",
            "21/21 [==============================] - 4s 178ms/step - loss: 0.0519 - accuracy: 0.9953 - val_loss: 0.2439 - val_accuracy: 0.8913\n",
            "Epoch 7/10\n",
            "21/21 [==============================] - 4s 211ms/step - loss: 0.0375 - accuracy: 0.9953 - val_loss: 0.2518 - val_accuracy: 0.8696\n",
            "Epoch 8/10\n",
            "21/21 [==============================] - 4s 181ms/step - loss: 0.0312 - accuracy: 0.9984 - val_loss: 0.2470 - val_accuracy: 0.8768\n",
            "Epoch 9/10\n",
            "21/21 [==============================] - 4s 180ms/step - loss: 0.0261 - accuracy: 0.9969 - val_loss: 0.2348 - val_accuracy: 0.9058\n",
            "Epoch 10/10\n",
            "21/21 [==============================] - 4s 181ms/step - loss: 0.0249 - accuracy: 1.0000 - val_loss: 0.2323 - val_accuracy: 0.8986\n"
          ]
        }
      ]
    },
    {
      "cell_type": "code",
      "source": [
        "# Evaluate the model on the test set\n",
        "loss, accuracy = model.evaluate(test_generator)\n",
        "print('Test loss:', loss)\n",
        "print('Test accuracy:', accuracy)"
      ],
      "metadata": {
        "colab": {
          "base_uri": "https://localhost:8080/"
        },
        "id": "ndWSYtWnIBuJ",
        "outputId": "b562b0bb-f792-41fd-cdab-7dc7e098c096"
      },
      "execution_count": null,
      "outputs": [
        {
          "output_type": "stream",
          "name": "stdout",
          "text": [
            "5/5 [==============================] - 3s 616ms/step - loss: 0.2326 - accuracy: 0.8993\n",
            "Test loss: 0.2326185405254364\n",
            "Test accuracy: 0.8992805480957031\n"
          ]
        }
      ]
    },
    {
      "cell_type": "code",
      "source": [
        "from sklearn.ensemble import RandomForestClassifier\n",
        "from sklearn.metrics import accuracy_score, precision_score, recall_score, f1_score\n",
        "\n",
        "X_train, X_test, y_train, y_test = train_test_split(X, y, test_size=0.2, random_state=42)\n",
        "\n",
        "\n",
        "\n",
        "X_train_flat = X_train.reshape((X_train.shape[0], -1))\n",
        "X_val_flat = X_val.reshape((X_val.shape[0], -1))\n",
        "X_test_flat = X_test.reshape((X_test.shape[0], -1))\n",
        "\n",
        "# Create a Random Forest classifier\n",
        "rf = RandomForestClassifier(n_estimators=100, random_state=42)\n",
        "\n",
        "# Train the classifier on the training set\n",
        "rf.fit(X_train_flat, y_train)\n",
        "\n",
        "# Evaluate the classifier on the test set\n",
        "y_pred = rf.predict(X_test_flat)\n",
        "accuracy = accuracy_score(y_test, y_pred)\n",
        "precision = precision_score(y_test, y_pred)\n",
        "recall = recall_score(y_test, y_pred)\n",
        "f1 = f1_score(y_test, y_pred)\n",
        "\n",
        "print('Test accuracy:', accuracy)\n",
        "print('Test precision:', precision)\n",
        "print('Test recall:', recall)\n",
        "print('Test F1 score:', f1)"
      ],
      "metadata": {
        "colab": {
          "base_uri": "https://localhost:8080/"
        },
        "id": "H_AbFH95cevx",
        "outputId": "7fbf1fa5-32be-4dbb-95b9-5f736e2c3a06"
      },
      "execution_count": null,
      "outputs": [
        {
          "output_type": "stream",
          "name": "stdout",
          "text": [
            "Test accuracy: 0.7243243243243244\n",
            "Test precision: 0.7473684210526316\n",
            "Test recall: 0.7244897959183674\n",
            "Test F1 score: 0.7357512953367875\n"
          ]
        }
      ]
    },
    {
      "cell_type": "code",
      "source": [
        "from sklearn.ensemble import RandomForestClassifier\n",
        "from sklearn.metrics import accuracy_score, precision_score, recall_score, f1_score\n",
        "from sklearn.model_selection import GridSearchCV, train_test_split\n",
        "\n",
        "# Split the data into training and test sets\n",
        "X_train, X_test, y_train, y_test = train_test_split(X, y, test_size=0.2, random_state=42)\n",
        "\n",
        "# Flatten the input data\n",
        "X_train_flat = X_train.reshape((X_train.shape[0], -1))\n",
        "\n",
        "# Define the parameter grid for grid search\n",
        "param_grid = {\n",
        "    'n_estimators': [50, 100, 200],\n",
        "    'max_depth': [10, 20, None],\n",
        "    'max_features': ['sqrt', 'log2']\n",
        "}\n",
        "\n",
        "# Create a Random Forest classifier\n",
        "rf = RandomForestClassifier(random_state=42)\n",
        "\n",
        "# Perform grid search to find the best hyperparameters\n",
        "grid_search = GridSearchCV(estimator=rf, param_grid=param_grid, cv=5, n_jobs=-1)\n",
        "grid_search.fit(X_train_flat, y_train)\n",
        "\n",
        "# Print the best hyperparameters found by grid search\n",
        "print('Best hyperparameters:', grid_search.best_params_)\n",
        "\n",
        "\n",
        "best_model = grid_search.best_estimator_\n",
        "\n",
        "X_test_flat = X_test.reshape((X_test.shape[0], -1))\n",
        "y_pred = best_model.predict(X_test_flat)\n",
        "accuracy = accuracy_score(y_test, y_pred)\n",
        "precision = precision_score(y_test, y_pred)\n",
        "recall = recall_score(y_test, y_pred)\n",
        "f1 = f1_score(y_test, y_pred)\n",
        "\n",
        "print('Test accuracy:', accuracy)\n",
        "print('Test precision:', precision)\n",
        "print('Test recall:', recall)\n",
        "print('Test F1 score:', f1)"
      ],
      "metadata": {
        "id": "BeKB3EwbfWUp"
      },
      "execution_count": null,
      "outputs": []
    }
  ]
}