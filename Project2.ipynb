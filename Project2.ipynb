{
 "cells": [
  {
   "cell_type": "code",
   "execution_count": 1,
   "metadata": {},
   "outputs": [
    {
     "name": "stderr",
     "output_type": "stream",
     "text": [
      "Intel(R) Extension for Scikit-learn* enabled (https://github.com/intel/scikit-learn-intelex)\n"
     ]
    }
   ],
   "source": [
    "from skimage import io\n",
    "from skimage.feature import hog\n",
    "from skimage.feature.texture import local_binary_pattern\n",
    "from sklearn.metrics import accuracy_score\n",
    "from sklearn.model_selection import train_test_split\n",
    "from sklearn.ensemble import RandomForestClassifier\n",
    "from os import listdir\n",
    "from os.path import isfile, join\n",
    "import numpy as np\n",
    "import cv2\n",
    "from skimage.color import rgb2gray\n",
    "from skimage.transform import resize\n",
    "from sklearn.svm import SVC\n",
    "from sklearnex import patch_sklearn, config_context\n",
    "from feature_extraction import (\n",
    "    get_cold_features,\n",
    "    get_hinge_features,\n",
    "    preprocess_image,\n",
    "    get_contour_pixels,\n",
    ")\n",
    "from sklearn.preprocessing import StandardScaler\n",
    "from sklearn.decomposition import PCA\n",
    "from PIL import ImageEnhance, Image\n",
    "from numba import jit\n",
    "from tqdm import tqdm\n",
    "import warnings\n",
    "\n",
    "warnings.filterwarnings(\"ignore\")\n",
    "\n",
    "patch_sklearn()\n"
   ]
  },
  {
   "cell_type": "code",
   "execution_count": 2,
   "metadata": {},
   "outputs": [],
   "source": [
    "images = []\n",
    "labels = []\n",
    "\n",
    "class_1_path = \"dataset_resized/flooded\"\n",
    "images = [\n",
    "    join(class_1_path, f)\n",
    "    for f in listdir(class_1_path)\n",
    "    if isfile(join(class_1_path, f))\n",
    "]\n",
    "labels = [1 for _ in range(len(images))]\n",
    "\n",
    "class_2_path = \"dataset_resized/non-flooded\"\n",
    "class_2_files = [\n",
    "    join(class_2_path, f)\n",
    "    for f in listdir(class_2_path)\n",
    "    if isfile(join(class_2_path, f))\n",
    "]\n",
    "class_2_labels = [0 for _ in range(len(class_2_files))]\n",
    "\n",
    "images.extend(class_2_files)\n",
    "labels.extend(class_2_labels)\n",
    "\n",
    "images = np.array(images)\n",
    "labels = np.array(labels)"
   ]
  },
  {
   "cell_type": "code",
   "execution_count": 3,
   "metadata": {},
   "outputs": [
    {
     "data": {
      "text/plain": [
       "(922,)"
      ]
     },
     "execution_count": 3,
     "metadata": {},
     "output_type": "execute_result"
    }
   ],
   "source": [
    "images.shape\n"
   ]
  },
  {
   "cell_type": "code",
   "execution_count": 4,
   "metadata": {},
   "outputs": [
    {
     "data": {
      "text/plain": [
       "(922,)"
      ]
     },
     "execution_count": 4,
     "metadata": {},
     "output_type": "execute_result"
    }
   ],
   "source": [
    "labels.shape\n"
   ]
  },
  {
   "cell_type": "code",
   "execution_count": 5,
   "metadata": {},
   "outputs": [],
   "source": [
    "def prepare_image(image_path):\n",
    "    image = Image.open(image_path)\n",
    "    image_np = np.array(image)\n",
    "    image = image.resize((100, 100))\n",
    "    image_np = rgb2gray(image_np)\n",
    "    lbp = local_binary_pattern(image_np, 8, 1, method=\"uniform\").flatten()\n",
    "    hog_features = hog(\n",
    "        image_np,\n",
    "        orientations=8,\n",
    "        pixels_per_cell=(16, 16),\n",
    "        cells_per_block=(1, 1),\n",
    "    )\n",
    "    image, _ = preprocess_image(image)\n",
    "    contour = get_contour_pixels(image)\n",
    "    hinge_features = get_hinge_features(contour)\n",
    "    cold_features = get_cold_features(contour)\n",
    "    features = np.concatenate([lbp, hog_features, hinge_features, cold_features])\n",
    "    return features"
   ]
  },
  {
   "cell_type": "code",
   "execution_count": 6,
   "metadata": {},
   "outputs": [
    {
     "name": "stderr",
     "output_type": "stream",
     "text": [
      "100%|██████████| 922/922 [01:15<00:00, 12.16it/s]\n"
     ]
    }
   ],
   "source": [
    "images = np.array([prepare_image(image_path) for image_path in tqdm(images)])"
   ]
  },
  {
   "cell_type": "code",
   "execution_count": 7,
   "metadata": {},
   "outputs": [],
   "source": [
    "scaler = StandardScaler()\n",
    "images = scaler.fit_transform(images)\n",
    "\n",
    "pca = PCA(n_components=100)\n",
    "images = pca.fit_transform(images)\n"
   ]
  },
  {
   "cell_type": "code",
   "execution_count": 8,
   "metadata": {},
   "outputs": [],
   "source": [
    "X_train, X_test, y_train, y_test = train_test_split(\n",
    "    images, labels, test_size=0.2, random_state=42\n",
    ")"
   ]
  },
  {
   "cell_type": "code",
   "execution_count": 12,
   "metadata": {},
   "outputs": [
    {
     "name": "stdout",
     "output_type": "stream",
     "text": [
      "0.8162162162162162\n"
     ]
    }
   ],
   "source": [
    "model = RandomForestClassifier(n_estimators=100, random_state=42)\n",
    "with config_context(target_offload=\"gpu:0\"):\n",
    "    model.fit(X_train, y_train)\n",
    "\n",
    "y_pred = model.predict(X_test)\n",
    "print(accuracy_score(y_test, y_pred))\n"
   ]
  },
  {
   "cell_type": "code",
   "execution_count": 15,
   "metadata": {},
   "outputs": [
    {
     "name": "stdout",
     "output_type": "stream",
     "text": [
      "0.8432432432432433\n"
     ]
    }
   ],
   "source": [
    "from sklearn.ensemble import GradientBoostingClassifier\n",
    "model = GradientBoostingClassifier(n_estimators=100)\n",
    "with config_context(target_offload=\"gpu:0\"):\n",
    "    model.fit(X_train, y_train)\n",
    "\n",
    "y_pred = model.predict(X_test)\n",
    "print(accuracy_score(y_test, y_pred))"
   ]
  },
  {
   "cell_type": "code",
   "execution_count": 16,
   "metadata": {},
   "outputs": [
    {
     "name": "stdout",
     "output_type": "stream",
     "text": [
      "0.7945945945945946\n"
     ]
    }
   ],
   "source": [
    "from sklearn.ensemble import AdaBoostClassifier\n",
    "model = AdaBoostClassifier(n_estimators=100)\n",
    "with config_context(target_offload=\"gpu:0\"):\n",
    "    model.fit(X_train, y_train)\n",
    "\n",
    "y_pred = model.predict(X_test)\n",
    "print(accuracy_score(y_test, y_pred))"
   ]
  }
 ],
 "metadata": {
  "kernelspec": {
   "display_name": "base",
   "language": "python",
   "name": "python3"
  },
  "language_info": {
   "codemirror_mode": {
    "name": "ipython",
    "version": 3
   },
   "file_extension": ".py",
   "mimetype": "text/x-python",
   "name": "python",
   "nbconvert_exporter": "python",
   "pygments_lexer": "ipython3",
   "version": "3.10.9"
  },
  "orig_nbformat": 4
 },
 "nbformat": 4,
 "nbformat_minor": 2
}
